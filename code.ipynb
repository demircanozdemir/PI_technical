{
 "cells": [
  {
   "cell_type": "code",
   "execution_count": 46,
   "id": "d23d6f75",
   "metadata": {},
   "outputs": [],
   "source": [
    "import re"
   ]
  },
  {
   "cell_type": "code",
   "execution_count": 47,
   "id": "229c8020",
   "metadata": {},
   "outputs": [],
   "source": [
    "a = \"<url>https://xcd32112.smart_meter.com</url>\"\n",
    "b = \"<url>http://tXh67.dia_meter.com</url>\" \n",
    "c = \"<url>https://yT5495.smart_meter.com</url>\"\n",
    "d = \"<url>https://ret323_TRu.crown.com</url>\"\n",
    "e = \"<url>https://luwr3243.celcius.com</url>\"\n",
    "liste = [a,b,c,d,e]"
   ]
  },
  {
   "cell_type": "code",
   "execution_count": 48,
   "id": "24182e35",
   "metadata": {},
   "outputs": [
    {
     "name": "stdout",
     "output_type": "stream",
     "text": [
      "xcd32112.smart_meter.com\n",
      "tXh67.dia_meter.com\n",
      "yT5495.smart_meter.com\n",
      "ret323_TRu.crown.com\n",
      "luwr3243.celcius.com\n"
     ]
    }
   ],
   "source": [
    "for i in liste:\n",
    "    split_string = re.split(r'<|//|>',i)\n",
    "    print(split_string[3])"
   ]
  },
  {
   "cell_type": "code",
   "execution_count": null,
   "id": "4ce09551",
   "metadata": {},
   "outputs": [],
   "source": []
  }
 ],
 "metadata": {
  "kernelspec": {
   "display_name": "Python 3",
   "language": "python",
   "name": "python3"
  },
  "language_info": {
   "codemirror_mode": {
    "name": "ipython",
    "version": 3
   },
   "file_extension": ".py",
   "mimetype": "text/x-python",
   "name": "python",
   "nbconvert_exporter": "python",
   "pygments_lexer": "ipython3",
   "version": "3.10.7"
  }
 },
 "nbformat": 4,
 "nbformat_minor": 5
}
